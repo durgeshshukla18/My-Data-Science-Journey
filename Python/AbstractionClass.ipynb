{
 "cells": [
  {
   "cell_type": "code",
   "execution_count": 3,
   "metadata": {},
   "outputs": [],
   "source": [
    "import abc\n",
    "class class1:\n",
    "    @abc.abstractmethod\n",
    "    def student_details(Self):\n",
    "        pass\n",
    "    @abc.abstractmethod\n",
    "    def studebt_assignment(self):\n",
    "        pass\n",
    "    @abc.abstractmethod\n",
    "    def student_marks(self):\n",
    "        pass\n"
   ]
  },
  {
   "cell_type": "code",
   "execution_count": 4,
   "metadata": {},
   "outputs": [],
   "source": [
    "class class2(class1):\n",
    "\n",
    "    def student_details(self):\n",
    "        return \"This is student details\"\n",
    "    \n",
    "    def student_assignment(self):\n",
    "        return \"This is student assignment\"\n",
    "    \n",
    "    def student_marks(self):\n",
    "        return \"This is student marks\"\n"
   ]
  },
  {
   "cell_type": "code",
   "execution_count": 7,
   "metadata": {},
   "outputs": [],
   "source": [
    "class class3(class1):\n",
    "     def student_details(self):\n",
    "        return \"This is student details of class3\"\n",
    "    \n",
    "     def student_assignment(self):\n",
    "        return \"This is student assignment of class 3\"\n",
    "    \n",
    "\n"
   ]
  },
  {
   "cell_type": "code",
   "execution_count": 9,
   "metadata": {},
   "outputs": [
    {
     "data": {
      "text/plain": [
       "'This is student assignment'"
      ]
     },
     "execution_count": 9,
     "metadata": {},
     "output_type": "execute_result"
    }
   ],
   "source": [
    "ds = class2()\n",
    "ds.student_assignment()"
   ]
  },
  {
   "cell_type": "code",
   "execution_count": null,
   "metadata": {},
   "outputs": [],
   "source": []
  }
 ],
 "metadata": {
  "kernelspec": {
   "display_name": "Python 3",
   "language": "python",
   "name": "python3"
  },
  "language_info": {
   "codemirror_mode": {
    "name": "ipython",
    "version": 3
   },
   "file_extension": ".py",
   "mimetype": "text/x-python",
   "name": "python",
   "nbconvert_exporter": "python",
   "pygments_lexer": "ipython3",
   "version": "3.12.2"
  }
 },
 "nbformat": 4,
 "nbformat_minor": 2
}
