#Logical And :-

vege = True
salt = False
Dish = vege and salt

print(f"Dish contains vegetables:{vege}")
print(f"Dish contains salt:{salt}")